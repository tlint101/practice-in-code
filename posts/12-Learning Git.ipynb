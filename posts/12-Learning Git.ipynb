{
 "cells": [
  {
   "metadata": {},
   "cell_type": "markdown",
   "source": [
    "---\n",
    "title: 'Learning Git'\n",
    "subtitle: 'Where I Learn Version Control'\n",
    "author: 'Tony E. Lin'\n",
    "date: '2025-06-25'\n",
    "categories: [Python, Bash, Git, Coding, GitHub, Codeberg]\n",
    "---"
   ],
   "id": "f14b3cf16c5a62dd"
  },
  {
   "metadata": {},
   "cell_type": "markdown",
   "source": [
    "## Learning\n",
    "It has been a good while since I last posted. Time has gotten away from me. Thankfully, I can also fall back on the \"I've been busy\" shtick. I'll lean on that. A quick glance on my GitHub profile shows that I have been \"fairly\" busy. So my \"excuse\" isn't far off."
   ],
   "id": "71ee86b7f3e3d773"
  },
  {
   "metadata": {},
   "cell_type": "markdown",
   "source": [
    "### Housekeeping\n",
    "Since my last post, I have hit a lot of personal milestones. I've become a little more comfortable with coding. As someone who is self-taught, it feels like a huge accomplishment to be able to say that. However, there is always more to learn, to improve, and skills to develop. One of the most important ones is [Version Control](https://en.wikipedia.org/wiki/Version_control).\n",
    "\n",
    "For those in academia, GitHub is the repository host of choice. Though, I think Codeberg is a good one too and I have begun mirroring many of my projects. Hopefully I can wean myself from Github in the future, since the projects on GitHub is used to train Microsoft's Copilot, and [potentially exposing private GitHub repositories](https://www.developer-tech.com/news/microsoft-copilot-continues-to-expose-private-github-repositories/). Codeberg, as far as I know, cannot be used to train LLMs.\n",
    "\n",
    "All of that is for another post or venue. For now, I wanted to share how I use Git and some basic commands I use."
   ],
   "id": "308c1514a9f08d3b"
  },
  {
   "metadata": {},
   "cell_type": "markdown",
   "source": [
    "### How I Started Using Git\n",
    "As my projects have become bigger and ambitious, it has become vital to record and track the changes to my code. This is a natural progression for any developer.\n",
    "\n",
    "I started writing my projects in Jupyter Notebooks. I love the ability to write in distinct code blocks and to immediately get results printed on script. It helps that each code block can be run out of order, which allows testing and learning of code or custom API. Importantly, with the mix of code and markdown blocks, Jupyter Notebooks are great ways to communicate, share, and teach others your code.\n",
    "\n",
    "My original interaction with Jupyter Notebooks was through the traditional portal - the localhost connection. It was simple and easy.\n",
    "\n",
    "As I got comfortable with simple command scripts, I began making more complicated functions, which requires better organization skills. On the advice of a friend, I began using [Integrated Development Environment](https://en.wikipedia.org/wiki/Integrated_development_environment) (IDE)s. There are plenty out there, like [VSCode](https://code.visualstudio.com) and [Spyder](https://www.spyder-ide.org). But I gravitated toward the [JetBrains](https://www.jetbrains.com/?var=1) software suite - particularly [PyCharm](https://www.jetbrains.com/pycharm/) and [IntelliJ IDEA](https://www.jetbrains.com/idea/).\n",
    "\n",
    "I like the JetBrains software because of the look of the interface and the ability to customize how it looks. I am an insane person and will change my IDE theme each day depending on my mood. Everyone is different, so play around with each one and find one that you like.\n",
    "\n",
    "A main advantage with PyCharm is its integration with Git. It is there from the get go and ready for set up. Plugin with your GitHub account and users are ready to commit, push, or pull their projects. The GUI made it easy peasy! My workflow became:\n",
    "\n",
    "- Create repository on GitHub\n",
    "- Clone repository through PyCharm onto my machine\n",
    "- Code\n",
    "- Commit/Push/Pull as needed\n",
    "\n",
    "It was simple and I got comfortable with that for a long time.\n",
    "\n",
    "However, PyCharm is mainly \"connected\" to GitHub. As I begin to transition/mirror projects to Codeberg, I found that the GUI becomes unfriendly and clunky. That has caused me to learn a few command line codes that I found useful."
   ],
   "id": "8788cdf97ca4c9b"
  },
  {
   "metadata": {},
   "cell_type": "markdown",
   "source": [
    "### Git Commands I Use\n",
    "These command line tools are easy ways to connect a project to Git protocols. Importantly, they do not need a specific IDE to be used. All you need is a terminal/command line interface. It is a step up in my coding abilities!\n",
    "\n",
    "My main machine is a MacOS. Thus, these commands are used in the Terminal. Depending on your machine, you should be able to copy/paste these commands to get things working too.\n",
    "\n",
    "Check if git is installed:\n",
    "```bash\n",
    "git --version\n",
    "```\n",
    "\n",
    "Initialize Git in project folder:\n",
    "```bash\n",
    "git init\n",
    "```\n",
    "\n",
    "Confirm git tracking:\n",
    "```bash\n",
    "git status\n",
    "```\n",
    "\n",
    "If a git repository is made on your GitHub/Codeberg account:\n",
    "```bash\n",
    "git remote add origin https://github.com/your-username/repo.git\n",
    "```\n",
    "\n",
    "If you want to add multiple repositories/remotes to your project or want to check which ones are connected to your project:\n",
    "```bash\n",
    "git remote -v\n",
    "```\n",
    "\n",
    "If you want to rename your remotes:\n",
    "```bash\n",
    "git remote rename original_name new_name\n",
    "```\n",
    "\n",
    "Stage all changes in project:\n",
    "```bash\n",
    "git add .\n",
    "```\n",
    "\n",
    "or if you want to stage specific files:\n",
    "```bash\n",
    "git add name_of_file\n",
    "```\n",
    "\n",
    "Commit changes:\n",
    "```bash\n",
    "git commit -m \"message\"\n",
    "```\n",
    "\n",
    "Push to repository (first time):\n",
    "```bash\n",
    "git push u- origin main\n",
    "```\n",
    "\n",
    "Push to repository (subsequent times)\n",
    "```bash\n",
    "git push\n",
    "```\n",
    "\n",
    "Pull changes:\n",
    "```bash\n",
    "git pull\n",
    "```\n",
    "\n",
    "Those are the main commands that I have learned to use. There are a ton of others that may come in handy to users. I found a nice [cheatsheet here](https://education.github.com/git-cheat-sheet-education.pdf). For my main uses though, I still have the GUI to use. If things break, I hope I can figure things out in the future!"
   ],
   "id": "2552e2d2caf27762"
  }
 ],
 "metadata": {
  "kernelspec": {
   "display_name": "Python 3",
   "language": "python",
   "name": "python3"
  },
  "language_info": {
   "codemirror_mode": {
    "name": "ipython",
    "version": 2
   },
   "file_extension": ".py",
   "mimetype": "text/x-python",
   "name": "python",
   "nbconvert_exporter": "python",
   "pygments_lexer": "ipython2",
   "version": "2.7.6"
  }
 },
 "nbformat": 4,
 "nbformat_minor": 5
}
